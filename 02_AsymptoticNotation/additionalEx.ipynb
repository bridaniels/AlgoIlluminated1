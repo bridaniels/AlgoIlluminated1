{
 "cells": [
  {
   "cell_type": "markdown",
   "id": "72fbbae2-47d5-4d82-a0a5-05b64da2d1bb",
   "metadata": {},
   "source": [
    "# Chapter 2.5: Additional Examples\n",
    "---"
   ]
  },
  {
   "cell_type": "markdown",
   "id": "a2637e44-4db9-4c95-8fac-fce8c0f98bd1",
   "metadata": {},
   "source": [
    "---\n",
    "## Adding a Constant to an Exponent\n",
    "- proof that one function is big-O of another \n",
    "    - if `T(n) = 2ᴺ⁺¹⁰`, then `T(n) = O(2ᴺ)`\n",
    "        - Adding a constant to the exponent of an exponential function does not change it's asymptotic rate of growth \n",
    "        - pair of positive constants `c` and `n₀` (independent of `n`)\n",
    "        - `T(n)` at most `c*2ᴺ` for all `n >= n₀`\n",
    "        - get rid of exponent `10`:\n",
    "            - `T(n) =  2ᴺ⁺¹⁰` = ` 2¹⁰ *  2ᴺ` = `1024 *  2ᴺ`\n",
    "            - `c = 1024`\n",
    "            - `T(n) <= c *  2ᴺ` for all `n >= 1`\n",
    "            - certifies `T(n) = O(2ᴺ)`"
   ]
  },
  {
   "cell_type": "markdown",
   "id": "6d698058-fe74-4522-bda7-def3bc6b9908",
   "metadata": {},
   "source": [
    "---\n",
    "## Multiplying an Exponent by a Constant \n",
    "- proof showing one function is **NOT** big-O of another \n",
    "    - if `T(n) = 2¹⁰ᴺ` then `T(n)` is not `O(2ᴺ)`\n",
    "        - multiplying the exponent of an exponential fucntion by a constant changes it's asymptotic rate of growth \n",
    "        - contradiction: `T(n)` is `O(2ᴺ)` \n",
    "        - positive constants `c` and `n₀` such that `2¹⁰ᴺ <= c * 2ᴺ` for all `n >= n₀`\n",
    "            - `2ᴺ` is a positive number -> cancel from both sides of inequality \n",
    "            - `2⁹ᴺ <= c` for all `n >= n₀`\n",
    "                - inequality is obviously false \n",
    "                - right-hand side is a fixed constant (independent of `n`)\n",
    "                - while left-hand side grows infinitely large, `c` does not \n",
    "        - `2¹⁰ᴺ != O(2ᴺ)`"
   ]
  },
  {
   "cell_type": "markdown",
   "id": "225014be-c6e1-4fc6-baf9-a4caff2262c3",
   "metadata": {},
   "source": [
    "---\n",
    "## Maximum VS. Sum\n",
    "- big-theta notation: \"equal to\"\n",
    "- when using asymptotic notation, there is **no difference** between:\n",
    "    - taking the point-wise maximum of two nonnegative function\n",
    "    - and taking their sum \n",
    "- `T(n) = max{f(n),g(n)}` for each `n >= 1` Then `T(n) = Θ(f(n)+g(n))`\n",
    "    - `f` and `g` = functions from positive integers to nonnegative real numbers \n",
    "    - algorithm that performs constant number of `O(f(n))` subroutines itself runs `O(f(n))` time \n",
    "        - `O(3(f(n)))` -> is still just `O(f(n))`\n",
    "    - **PROOF**\n",
    "        - `T(n) = Θ(f(n))` means that `T(n)` eventually sandwiched between two constant multiples of `f(n)`\n",
    "        - exhibit three constants: `n₀` and `C1`, `C2` corresponding to smaller/larger multiples of `f(n)` \n",
    "        - for arbitrary positive integer `n`:\n",
    "            - `max{f(n),g(n)} <= f(n) + g(n)`\n",
    "                - right-hand side is the left-hand side `+` a nonnegative number `f(n)` or `g(n)`, whichever is smaller \n",
    "            - `2*max{f(n),g(n)} >= f(n) + g(n)`\n",
    "                - left-hand side is two copies of the larger `f(n)` or `g(n)`\n",
    "                - right-hand side is one copy of each \n",
    "            - put inequalities together:\n",
    "            - `(1/2)*(f(n)+(g(n))  <=  max{f(n),g(n)}  <=  f(n)+g(n)` for every `n >= 1`\n",
    "                - `C1 = 1/2`, `C2 = 1`, and `n₀ = 1`\n",
    "    - `T(n) = max{f(n),g(n)}` for each `n >= 1` Then `T(n) = Θ(f(n)+g(n))` = TRUE\n",
    "    \n",
    "---"
   ]
  },
  {
   "cell_type": "code",
   "execution_count": null,
   "id": "10a7fcb7-b7c0-480c-bc07-7e644bc3bbe6",
   "metadata": {},
   "outputs": [],
   "source": []
  }
 ],
 "metadata": {
  "kernelspec": {
   "display_name": "Python 3",
   "language": "python",
   "name": "python3"
  },
  "language_info": {
   "codemirror_mode": {
    "name": "ipython",
    "version": 3
   },
   "file_extension": ".py",
   "mimetype": "text/x-python",
   "name": "python",
   "nbconvert_exporter": "python",
   "pygments_lexer": "ipython3",
   "version": "3.8.8"
  }
 },
 "nbformat": 4,
 "nbformat_minor": 5
}
