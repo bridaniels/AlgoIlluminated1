{
 "cells": [
  {
   "cell_type": "markdown",
   "id": "5ddfe4ce-da5d-450c-952b-57a790c3c439",
   "metadata": {},
   "source": [
    "# Chapter 2: Problems\n",
    "---"
   ]
  },
  {
   "cell_type": "code",
   "execution_count": 1,
   "id": "a2dd72de-c4f4-45c4-b617-512b77bc1324",
   "metadata": {},
   "outputs": [],
   "source": [
    "import math"
   ]
  },
  {
   "cell_type": "markdown",
   "id": "9d580dd0-f339-462b-838a-90604f4bd961",
   "metadata": {},
   "source": [
    "## 2.1\n",
    "- `f` and `g` = non-decreasing functions defined on positive integers with `f(n)` and `g(n)` at least `2` for all `n >= 1`\n",
    "- `f(n) = O(g(n))` and `L` = positive constant \n",
    "- is `f(n) * log₂(f(n)ᴸ = O(g(n) * log₂(g(((n))`  ?\n",
    "    - Yes, for all such `f`, `g`, and `c`\n",
    "    - `c` is an exponent inside the logarithm -> becomes part of the leading constant and gets supressed in big-O notation "
   ]
  },
  {
   "cell_type": "markdown",
   "id": "d1554eac-e160-42be-ba27-79a235b6e55f",
   "metadata": {},
   "source": [
    "## 2.2\n",
    "- a.) prop 2.4\n",
    "- two positive non-decreasing functions `f` and `g` such that `f(n) = O(g(n))`\n",
    "- is 2<sup>f(n)</sup> = O(2<sup>g(n)</sup>)  ?\n",
    "    - Yes, for all such `f` and `g`\n",
    "    - `f(n)` and `g(n)` cancel out "
   ]
  },
  {
   "cell_type": "markdown",
   "id": "a2fd085a-d8c9-4256-9911-87003608c0e2",
   "metadata": {},
   "source": [
    "## 2.3\n",
    "- following in order of increasing growth rather with `g(n)` following `f(n)` if and only if `f(n) = O(g(n))`\n",
    "- lowest: `√n`\n",
    "- second lowest: `2^√log₂n`\n",
    "- middle:  `n¹﹒⁵`\n",
    "- second highest: `n^⁵⁄₃`\n",
    "- highest: `10ᴺ`"
   ]
  },
  {
   "cell_type": "code",
   "execution_count": 2,
   "id": "181594fa-c870-4d4c-8caf-9961272a1d5c",
   "metadata": {},
   "outputs": [
    {
     "name": "stdout",
     "output_type": "stream",
     "text": [
      "√n: 3.1622776601683795\n",
      "2^√log₂n: 3.53721945446231\n",
      "n¹﹒⁵: 31.622776601683793\n",
      "n^⁵⁄₃: 46.4158883361278\n",
      "10ᴺ: 10000000000\n"
     ]
    }
   ],
   "source": [
    "n = 10\n",
    "print(f\"√n: {math.sqrt(n)}\")\n",
    "print(f\"2^√log₂n: {2**math.sqrt(math.log2(n))}\")\n",
    "print(f\"n¹﹒⁵: {n**1.5}\")\n",
    "print(f\"n^⁵⁄₃: {n**(5/3)}\")\n",
    "print(f\"10ᴺ: {10**n}\")"
   ]
  },
  {
   "cell_type": "markdown",
   "id": "d48fe605-e1a5-42ae-b2d8-4124c0baf4f8",
   "metadata": {},
   "source": [
    "## 2.4 \n",
    "- following in order of increasing growth rather with `g(n)` following `f(n)` if and only if `f(n) = O(g(n))`\n",
    "- lowest: `n²`\n",
    "- second lowest: `n² log₂n`\n",
    "- middle: `n^log₂n`\n",
    "- second highest: `2ᴺ`\n",
    "- highest: `2^2ᴺ`"
   ]
  },
  {
   "cell_type": "code",
   "execution_count": 3,
   "id": "5fbb4d73-fdf2-410c-9cbb-cecb86d33c1e",
   "metadata": {},
   "outputs": [
    {
     "name": "stdout",
     "output_type": "stream",
     "text": [
      "n²: 289\n",
      "n² log₂n: 1181.276761121348\n",
      "n^log₂n: 107007.50649737146\n",
      "2ᴺ: 131072\n"
     ]
    }
   ],
   "source": [
    "# 16 = crossover point for second lowest and middle\n",
    "n = 17\n",
    "print(f\"n²: {n**2}\")\n",
    "print(f\"n² log₂n: {n**2 * math.log2(n)}\")\n",
    "print(f\"n^log₂n: {n**(math.log2(n))}\")\n",
    "print(f\"2ᴺ: {2**n}\")\n",
    "# HONKER\n",
    "# print(f\"2^2ᴺ: {2**(2**n)}\")"
   ]
  },
  {
   "cell_type": "markdown",
   "id": "a49f0d0a-962a-4db5-9e93-44837d4287ec",
   "metadata": {},
   "source": [
    "## 2.5\n",
    "- following in order of increasing growth rather with `g(n)` following `f(n)` if and only if `f(n) = O(g(n))`\n",
    "- exponentiation base-2 and logarithm base-2 are inverse operations\n",
    "- lowest: `2^log₂n` same as `n`\n",
    "- second lowest: `n² log₂n`\n",
    "- middle: `n^⁵⁄₂`\n",
    "- second highest: `2^2^log₂n` same as `2ᴺ`\n",
    "- highest: `2^n^2`"
   ]
  },
  {
   "cell_type": "code",
   "execution_count": 4,
   "id": "b1a14a0b-11b5-434b-bb28-450c2fd33f67",
   "metadata": {},
   "outputs": [
    {
     "name": "stdout",
     "output_type": "stream",
     "text": [
      "2^log₂n: 16.999999999999996\n",
      "n² log₂n: 1181.276761121348\n",
      "n^⁵⁄₂: 1191.577525803504\n",
      "2^2^log₂n: 131071.99999999968\n",
      "2^n^2: 994646472819573284310764496293641680200912301594695434880927953786318994025066751066112\n"
     ]
    }
   ],
   "source": [
    "# crossover at 16 again\n",
    "n = 17\n",
    "print(f\"2^log₂n: {2**(math.log2(n))}\")\n",
    "print(f\"n² log₂n: {n**2 * math.log2(n)}\")\n",
    "print(f\"n^⁵⁄₂: {n**(5/2)}\")\n",
    "print(f\"2^2^log₂n: {2**(2**(math.log2(n)))}\")\n",
    "print(f\"2^n^2: {2**(n**2)}\")"
   ]
  },
  {
   "cell_type": "markdown",
   "id": "015b8c24-cc8a-4fd7-bf4f-ec37e629c251",
   "metadata": {},
   "source": [
    "## 2.6\n",
    "- `f(n)` and `g(n)` denote functions from the positive integers to positive real numbers\n",
    "- prove `f(n)`'s upper bound is `g(n)` if and only if `g(n)`'s lower bound is `f(n)`\n",
    "- prove that `f(n) = O(g(n))` if and only if `g(n) = Ω(f(n))`:\n",
    "    - `f(n) <= c * g(n)` if and only if `g(n) >= f(n)/c`\n",
    "    - while `c,n₀ > 0`:\n",
    "        - `c` and `n₀` prove `f(n) = O(g(n))`\n",
    "        - `1/c` and `n₀` prove `g(n) = Ω(f(n))`\n",
    "        - CONVERSELY:\n",
    "            - `c` and `n₀` prove `g(n) = Ω(f(n))`\n",
    "            - `1/c` and `n₀` prove `f(n) = O(g(n))`"
   ]
  },
  {
   "cell_type": "code",
   "execution_count": null,
   "id": "9e3cbef5-fedb-44dd-9b4a-f0808765e83d",
   "metadata": {},
   "outputs": [],
   "source": []
  }
 ],
 "metadata": {
  "kernelspec": {
   "display_name": "Python 3",
   "language": "python",
   "name": "python3"
  },
  "language_info": {
   "codemirror_mode": {
    "name": "ipython",
    "version": 3
   },
   "file_extension": ".py",
   "mimetype": "text/x-python",
   "name": "python",
   "nbconvert_exporter": "python",
   "pygments_lexer": "ipython3",
   "version": "3.8.8"
  }
 },
 "nbformat": 4,
 "nbformat_minor": 5
}
