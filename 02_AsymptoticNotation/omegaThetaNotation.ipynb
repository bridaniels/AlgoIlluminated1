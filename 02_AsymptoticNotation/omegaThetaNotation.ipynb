{
 "cells": [
  {
   "cell_type": "markdown",
   "id": "2c022c7f-9160-47a3-921d-3e269e983789",
   "metadata": {},
   "source": [
    "# **Chapter 2.4 Big-Omega and Big-Theta Notation** \n",
    "---"
   ]
  },
  {
   "cell_type": "markdown",
   "id": "59480eaf-f76f-42a5-8067-587c828c7c2b",
   "metadata": {},
   "source": [
    "#### Big-O: less than or equal to `<=`\n",
    "#### Big-Omega: greater than or equal to `>=`\n",
    "#### Big-Theta: equal to `==`"
   ]
  },
  {
   "cell_type": "markdown",
   "id": "4e1faabb-2dd8-4905-99ef-f0c8705f643d",
   "metadata": {},
   "source": [
    "---\n",
    "## Big-Omega Notation\n",
    "---\n",
    "- `T(n)` is big-omega of anoher function `f(n)`:\n",
    "    - if and only if `T(n)` is eventually bounded by a constant multiple of `f(n)`\n",
    "- `T(n) = Ω(f(n))` if and only if positive constant `c` and `n₀` such that:\n",
    "    - `T(n) >= c * f(n)` for all `n >= n₀`\n",
    "    - `n₀` = crossover point from variances in graph from `T(n)` and `c * f(n)`\n",
    "    - `T(n) = Ω(f(n))`"
   ]
  },
  {
   "cell_type": "markdown",
   "id": "01c330a3-085d-4821-830b-568554e7fbab",
   "metadata": {},
   "source": [
    "---\n",
    "## Big-Theta Notation\n",
    "---\n",
    "- big-theta notation or theta notation same as saying 'equal to'\n",
    "- `T(n) = Θ(f(n))` == `T(n) = Ω(f(n))` and `T(n) = O(f(n))`\n",
    "- `T(n) = Θ(f(n))` if and only if:\n",
    "    - positive constants exist `C1`, `C2`, `n₀` such that\n",
    "        - `C1 * f(n) <=   T(n)  <= C2 * f(n)` for all:\n",
    "            - `n >= n₀`"
   ]
  },
  {
   "cell_type": "markdown",
   "id": "36b3ffe6-783d-4b84-b8c4-194bb2338068",
   "metadata": {},
   "source": [
    "---\n",
    "## Big-O Notation\n",
    "---\n",
    "- Algorithm designers often revert back to this even if they know Big-Omega or Big-Theta\n",
    "- what is most concerning when designing the algorithm is MAX runtime\n",
    "- need to know how long algorithms could potentially run "
   ]
  },
  {
   "cell_type": "markdown",
   "id": "a8c0aa29-4e34-43fe-84f9-885910f5aabf",
   "metadata": {},
   "source": [
    "---\n",
    "## Little-O Notation\n",
    "---\n",
    "- Big-O notation = 'less than or equal to' `<=`\n",
    "- Little-O = 'less than' `<`\n",
    "- `T(n) = o(f(n))` == `T(n)` function grows slower than `f(n)`\n",
    "- `T(n) = o(f(n))` if and only f:\n",
    "    - every positive constant `c > 0` there is a choice of `n₀` such that:\n",
    "        - `T(n) <= c * f(n)` for all `n >= n₀`\n",
    "- for every constant `c`, no matter how small:\n",
    "    - `T(n)` is eventually bounded above by constant multiple `c * f(n)`\n",
    "    - `n₀` chosen to quantify eventually can depend on `c` but not on `n`"
   ]
  },
  {
   "cell_type": "code",
   "execution_count": null,
   "id": "4102e818-5daa-4b0b-ab5d-fa33846ae666",
   "metadata": {},
   "outputs": [],
   "source": []
  }
 ],
 "metadata": {
  "kernelspec": {
   "display_name": "Python 3",
   "language": "python",
   "name": "python3"
  },
  "language_info": {
   "codemirror_mode": {
    "name": "ipython",
    "version": 3
   },
   "file_extension": ".py",
   "mimetype": "text/x-python",
   "name": "python",
   "nbconvert_exporter": "python",
   "pygments_lexer": "ipython3",
   "version": "3.8.8"
  }
 },
 "nbformat": 4,
 "nbformat_minor": 5
}
