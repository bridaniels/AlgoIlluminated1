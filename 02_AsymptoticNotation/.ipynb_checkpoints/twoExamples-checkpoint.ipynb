{
 "cells": [
  {
   "cell_type": "markdown",
   "id": "e5aafc30-02d8-40a0-a1ad-3f07c6e00c11",
   "metadata": {},
   "source": [
    "# **Chapter 2.3: Two Basic Examples**\n",
    "---"
   ]
  },
  {
   "cell_type": "markdown",
   "id": "64c85c2c-d473-4844-a340-defcff82392a",
   "metadata": {},
   "source": [
    "---\n",
    "## Degree-k Polynomials are `O(nᴷ)`\n",
    "---\n",
    "- if `T(n)` is a polynomial with some degree `k`, then `T(n) = O(nᴷ)`\n",
    "- Polynomial: can have constants, variables, and exponenents -> can't divide by a variable (only constants)"
   ]
  },
  {
   "cell_type": "markdown",
   "id": "2b296a50-79c2-4a73-9cba-5451acf92fc6",
   "metadata": {},
   "source": [
    "### T(n) = a<sub>k</sub>n<sup>k</sup> + ... + a<sub>1</sub>n + a<sub>0</sub>\n",
    "- where `k ≥ 0` is a nonnegative integer and the a<sub>i</sub>'s are real numbers ( + or - )\n",
    "- Then `T(n) = O(nᴷ)`"
   ]
  },
  {
   "cell_type": "markdown",
   "id": "c2047be2-d0b5-44ec-b007-6474eb54deae",
   "metadata": {},
   "source": [
    "##### Polynomials in Big-O notation \n",
    "- all you need to worry about is the highest degree that appears in the polynomial \n",
    "- supressing constant factors and lower order terms "
   ]
  },
  {
   "cell_type": "markdown",
   "id": "abe44ae9-30e5-4326-bf6f-c7c60938f38c",
   "metadata": {},
   "source": [
    "#### Find a Pair of Positive Constants `c` and `n₀`\n",
    "- `c`: quantifying the constant multiple of `nᴷ`\n",
    "    - `c` = absolute value of the sum of coefficients (sum of a<sub>k</sub> + ... + a<sub>k<sup>n</sup></sub>)\n",
    "- `n₀`: quantifying sufficiently large `n`\n",
    "    - 'n' = 1 \n",
    "- `T(n) ≤ c * nᴷ` for all `n ≥ n₀ = 1`\n",
    "- need a sequence of the upper bounds on `T(n)` -> culinating in upper bound of `c * nᴷ`\n",
    "- take absolute value of each coefficient a<sub>i</sub> -> coefficients are now nonnegative \n",
    "    - c = |a<sub>k</sub>| + ... + |a<sub>1</sub>| + |a<sub>0</sub>| * n<sup>k</sup> \n",
    "    - |a<sub>i</sub>| is at least as big as a<sub>i</sub>\n",
    "    - because n<sup>i</sup> is positive -> |a<sub>i</sub>|n<sup>i</sup> is at least as big as a<sub>i</sub>n<sup>i</sup>\n",
    "    - means that: T(n) ≤ |a<sub>k</sub>n<sup>k</sup> + ... + |a<sub>1</sub>|n + |a<sub>0</sub>|\n",
    "- turn powers of `n` into a COMMON POWER of `n`\n",
    "    - because n ≥ 1, n<sup>k</sup> is at least as big as n<sup>i</sup> for every i∈{0,1,2,3...k}\n",
    "    - because |a<sub>i</sub>| is nonnegative -> |a<sub>i</sub>|n<sup>i</sup> is at least as big as a<sub>i</sub>n<sup>i</sup>\n",
    "    - means that: T(n) ≤ |a<sub>k</sub>n<sup>k</sup> + ... + |a<sub>1</sub>|n<sup>k</sup> + |a<sub>0</sub>|n<sup>k</sup> = |a<sub>k</sub>| + ... + |a<sub>1</sub>| + |a<sub>0</sub>| * n<sup>k</sup>"
   ]
  },
  {
   "cell_type": "markdown",
   "id": "0bbb9152-531a-4235-82a5-74677aec0352",
   "metadata": {},
   "source": [
    "---\n",
    "## Degree-*K* Polynomial is `O(nᴷ)` but not generally `O(nᴷ⁻¹)`\n",
    "---\n",
    "- polynomials with distinct degrees are distinct with respect to big-O notations \n",
    "- Proof by Contradiction:\n",
    "    - assume the opposite of what you want to prove\n",
    "    - build on assumption with a sequence of logically correct steps that culminate in a false statement \n",
    "    - the statement implies the assumption can't be true -> proves desired statement "
   ]
  },
  {
   "cell_type": "markdown",
   "id": "73eb8b47-076e-481e-a8a9-5706576367b1",
   "metadata": {},
   "source": [
    "- `k` = positive integer\n",
    "- `T(n) = nᴷ` -> thus `T(n) != O(nᴷ⁻¹)`\n",
    "    - Contradition Prooft:\n",
    "        - if `nᴷ` = `O(nᴷ⁻¹)` -> `nᴷ` bounded by a constraint multiple of `nᴷ⁻¹`\n",
    "        - positive constraints `c` and `n₀` such that:\n",
    "            - `nᴷ <= c * nᴷ⁻¹` for all `n >= n₀`\n",
    "        - `n` = positive number -> cancel `nᴷ⁻¹` from both sides to derive:\n",
    "            - `n <= c`\n",
    "        - for all `n >= n₀`, `c` is bigger than every positive integer = WRONG\n",
    "        - OG statement is true \n"
   ]
  },
  {
   "cell_type": "code",
   "execution_count": null,
   "id": "659de3d1-bd91-47ec-b6f3-4673325a2312",
   "metadata": {},
   "outputs": [],
   "source": []
  }
 ],
 "metadata": {
  "kernelspec": {
   "display_name": "Python 3",
   "language": "python",
   "name": "python3"
  },
  "language_info": {
   "codemirror_mode": {
    "name": "ipython",
    "version": 3
   },
   "file_extension": ".py",
   "mimetype": "text/x-python",
   "name": "python",
   "nbconvert_exporter": "python",
   "pygments_lexer": "ipython3",
   "version": "3.8.8"
  }
 },
 "nbformat": 4,
 "nbformat_minor": 5
}
