{
 "cells": [
  {
   "cell_type": "markdown",
   "id": "d76cc8c1-4fda-4935-b51e-f8f024a3062f",
   "metadata": {},
   "source": [
    "# Chapter 2: Asymptotic Notation"
   ]
  },
  {
   "cell_type": "markdown",
   "id": "c0170307-207a-4214-88f1-b3f5fc6bc737",
   "metadata": {},
   "source": [
    "---\n",
    "## Asymptotic Notation\n",
    "---\n",
    "### Supress Constant Factors and Lower-Order Terms\n",
    "- constant factors: too system-dependent\n",
    "- lower-order terms: irrelevant for large outputs\n",
    "\n",
    "#### Provides basic vocabulary for discussing the design and analysis of algorithms \n",
    "#### Helps differentiate between better and worse approaches \n",
    "#### MergeSort\n",
    "- Chapter 1: Running Time = 6n*log(base2)n + 6n \n",
    "- Asymptotic: \n",
    "    - drop 6n and leading constant factor of 6\n",
    "    - O(nlogn)\n",
    "    - \"big-O of n log n\"\n",
    "    - \"O(nlogn) time algorithm\"\n",
    "    "
   ]
  },
  {
   "cell_type": "markdown",
   "id": "b7aa576a-29a4-4f6f-9f1d-f1a541cadd0a",
   "metadata": {},
   "source": [
    "---\n",
    "## Searching One Array for Integer T\n",
    "---\n",
    "- performs linear scan through the array, checking each entry to see if it is the desired integer t "
   ]
  },
  {
   "cell_type": "code",
   "execution_count": 2,
   "id": "1db462c7-48c8-4059-8568-968278979cca",
   "metadata": {},
   "outputs": [],
   "source": [
    "def SearchOne(arr,t):\n",
    "    \n",
    "    for x in arr:\n",
    "        if x == t:\n",
    "            return True\n",
    "    return False"
   ]
  },
  {
   "cell_type": "code",
   "execution_count": 9,
   "id": "8a310255-ee71-47f6-9e46-191fc8912308",
   "metadata": {},
   "outputs": [
    {
     "name": "stdout",
     "output_type": "stream",
     "text": [
      "True\n",
      "False\n"
     ]
    }
   ],
   "source": [
    "array = [2,5,0,8,2,5,6,9]\n",
    "t,x = 8,1\n",
    "\n",
    "print(SearchOne(array,t))\n",
    "print(SearchOne(array,x))"
   ]
  },
  {
   "cell_type": "markdown",
   "id": "7e2e537c-bdb3-4217-a086-ea6d6647ad04",
   "metadata": {},
   "source": [
    "#### Running Time: O(n)\n",
    "- \"linear in n\" \n",
    "    - Code performs a constant number of operations for each entry in the array\n",
    "    - Bound of n on the total number of operations \n",
    "    - Number of operations performed depends on the input \n",
    "- Worst Case: t not in the array -> code loops through the entire array (n loop iterations)\n",
    "- Lower-Order Terms: constant number of operations before the loop begins and after it ends \n",
    "    - ignoring due to miniscule role \n",
    "    - constant: number independent of n"
   ]
  },
  {
   "cell_type": "markdown",
   "id": "f3d653ed-ca6d-405e-8ee1-133adff98ac9",
   "metadata": {},
   "source": [
    "---\n",
    "## Searching Two Arrays for Integer T\n",
    "---\n",
    "- search through A and if we fail to find t in A, we then search through B\n",
    "- if t is in neither = False"
   ]
  },
  {
   "cell_type": "code",
   "execution_count": 10,
   "id": "1612dfda-d68c-43d4-99fe-74702482c03b",
   "metadata": {},
   "outputs": [],
   "source": [
    "def SearchTwo(arr1,arr2,t):\n",
    "    \n",
    "    for x in arr1:\n",
    "        if x == t:\n",
    "            return True\n",
    "    for y in arr2:\n",
    "        if y == t:\n",
    "            return True\n",
    "    return False"
   ]
  },
  {
   "cell_type": "code",
   "execution_count": 13,
   "id": "3fef72b7-d7a6-4baf-abb2-0a83a156c71f",
   "metadata": {},
   "outputs": [
    {
     "name": "stdout",
     "output_type": "stream",
     "text": [
      "True\n",
      "False\n"
     ]
    }
   ],
   "source": [
    "array = [2,5,0,8,2,5,6,9]\n",
    "array2 = [6,5,6,3,2,9,8,2,6]\n",
    "t,x = 8,1\n",
    "\n",
    "print(SearchTwo(array,array2,t))\n",
    "print(SearchTwo(array,array2,x))"
   ]
  },
  {
   "cell_type": "markdown",
   "id": "173e4f15-7f7c-4fd2-b5fe-f3b3f245f472",
   "metadata": {},
   "source": [
    "#### Running Time: O(n)\n",
    "- Worst Case: number of operations perfromed in an unsuccessful search would be 2n\n",
    "- Extra factor of 2 is considered a 'constant' and excluded from Asymptotic Notation"
   ]
  },
  {
   "cell_type": "markdown",
   "id": "863eb387-256b-476b-8ebf-6ba8d2fab793",
   "metadata": {},
   "source": [
    "---\n",
    "## Checking for a Common Element Between Two Arrays\n",
    "---\n",
    "- two nested loops\n",
    "- if two given arrays of length n have a number in common "
   ]
  },
  {
   "cell_type": "code",
   "execution_count": 37,
   "id": "41172b02-3c97-40f6-89c6-b3d340993658",
   "metadata": {},
   "outputs": [],
   "source": [
    "def CommonElement(arr1,arr2):\n",
    "    for x in range(len(arr1)):\n",
    "        for j in range(len(arr2)):\n",
    "            if arr1[x] == arr2[j]:\n",
    "                return True\n",
    "    return False"
   ]
  },
  {
   "cell_type": "code",
   "execution_count": 43,
   "id": "2bfc5838-fb64-4113-9cf7-1fd04295a193",
   "metadata": {},
   "outputs": [
    {
     "name": "stdout",
     "output_type": "stream",
     "text": [
      "True\n"
     ]
    }
   ],
   "source": [
    "arr1 = [11,22,43,4,75,96]\n",
    "arr2 = [93,74,67,43,73,52]\n",
    "\n",
    "print(CommonElement(arr1,arr2))"
   ]
  },
  {
   "cell_type": "markdown",
   "id": "1a336968-a4bc-4e7e-bb53-d95d8ab52646",
   "metadata": {},
   "source": [
    "#### O(n^2)\n",
    "- \"Big O of n squared\" or \"Quadratic-Time Algorithm\" \n",
    "- Multiply lengths of the input by 10, the running time will go up by a factor of 100 \n",
    "- Constant number for each loop iteration + constant number for operations outside the loops\n",
    "- Total of n^2 iterations of the double loop -> one for each choice \n",
    "- For each of the n iterations of the outer loop, the code performs n iterations of the inner loop \n",
    "    - n * n = n^2"
   ]
  },
  {
   "cell_type": "markdown",
   "id": "59c82772-aeef-449b-ba07-a0b7d750ecb6",
   "metadata": {},
   "source": [
    "---\n",
    "## Checking for Duplicates Within an Array\n",
    "---\n",
    "- comparing ith element of A to the jth element of A, rather than to the jth element of another array B. "
   ]
  },
  {
   "cell_type": "code",
   "execution_count": 1,
   "id": "c8da115a-ce44-48d4-acf3-cea10488797b",
   "metadata": {},
   "outputs": [],
   "source": [
    "def CheckDuplicate(array):\n",
    "    for i in range(len(array)):\n",
    "        for j in range(i+1,len(array)):\n",
    "            if array[i] == array[j]:\n",
    "                print(\"matchy\")\n",
    "            else:\n",
    "                print(\"womp womp\")"
   ]
  },
  {
   "cell_type": "code",
   "execution_count": 2,
   "id": "f19a4095-13a3-41c7-ac06-0598a98b090c",
   "metadata": {},
   "outputs": [
    {
     "name": "stdout",
     "output_type": "stream",
     "text": [
      "womp womp\n",
      "womp womp\n",
      "womp womp\n",
      "womp womp\n",
      "womp womp\n",
      "womp womp\n",
      "womp womp\n",
      "womp womp\n",
      "womp womp\n",
      "womp womp\n"
     ]
    }
   ],
   "source": [
    "arrr = [9,7,6,3,5]\n",
    "\n",
    "CheckDuplicate(arrr)"
   ]
  },
  {
   "cell_type": "markdown",
   "id": "ee199993-ea04-45d7-804a-42eea1443e8a",
   "metadata": {},
   "source": [
    "#### O(n^2)\n",
    "- (n^2)/2 -> code does roughly half the work of the previous one \n",
    "    - only handling pairs i,j where i<j and not those with i>=j\n",
    "- One iteration for each subset {i,j} of two distinct indices\n",
    "- (n(n-2))/2 subsets \n",
    "    -> \"n choose 2\" or \"binomial coefficient\" "
   ]
  },
  {
   "cell_type": "code",
   "execution_count": null,
   "id": "ac251fe6-5486-468f-a7b2-a5be75295e46",
   "metadata": {},
   "outputs": [],
   "source": []
  }
 ],
 "metadata": {
  "kernelspec": {
   "display_name": "Python 3",
   "language": "python",
   "name": "python3"
  },
  "language_info": {
   "codemirror_mode": {
    "name": "ipython",
    "version": 3
   },
   "file_extension": ".py",
   "mimetype": "text/x-python",
   "name": "python",
   "nbconvert_exporter": "python",
   "pygments_lexer": "ipython3",
   "version": "3.8.8"
  }
 },
 "nbformat": 4,
 "nbformat_minor": 5
}
