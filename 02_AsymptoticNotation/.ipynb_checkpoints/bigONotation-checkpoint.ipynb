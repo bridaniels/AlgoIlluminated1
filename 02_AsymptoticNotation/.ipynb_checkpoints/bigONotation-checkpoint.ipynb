{
 "cells": [
  {
   "cell_type": "markdown",
   "id": "7b805669-4434-4a73-acfc-ea1c8e9729fd",
   "metadata": {},
   "source": [
    "# **Chapter 2.2 Big-O Notation**\n",
    "---\n",
    "---\n",
    "### Big-O Notation: English\n",
    "- `T(n) = O(f(n))` if and only if `T(n)` is eventually bounded above by a constant multiple of `f(n)`\n",
    "---\n",
    "- `T(n)` originally not bounded by `f(n)`\n",
    "    - multiplying `f(n)` by a constant (3) results in `f(n)` rising above `T(n)`\n",
    "    - thus `T(n)` is eventually bounded by a constant multiple of `f(n)` \n",
    "        - pg. 46"
   ]
  },
  {
   "cell_type": "markdown",
   "id": "cc36913f-ea52-41fe-aa64-62340fbc3635",
   "metadata": {},
   "source": [
    "---\n",
    "### Big-O Notation: Mathematical\n",
    "- `T(n) = O(f(n))` if and only if there exist positive constants `c` and `n₀` such that:\n",
    "    - `T(n) ≤ c * f(n)`\n",
    "    - for all `n ≥ n₀`\n",
    "---\n",
    "- `c` and `n₀` CANNOT depend on `n`, they are fixed numbers \n",
    "- Big-O there to suppress constant factors and lower-order terms\n",
    "---"
   ]
  },
  {
   "cell_type": "code",
   "execution_count": null,
   "id": "0f8797e6-1bc7-42c4-b2bb-130ec80087e0",
   "metadata": {},
   "outputs": [],
   "source": []
  }
 ],
 "metadata": {
  "kernelspec": {
   "display_name": "Python 3",
   "language": "python",
   "name": "python3"
  },
  "language_info": {
   "codemirror_mode": {
    "name": "ipython",
    "version": 3
   },
   "file_extension": ".py",
   "mimetype": "text/x-python",
   "name": "python",
   "nbconvert_exporter": "python",
   "pygments_lexer": "ipython3",
   "version": "3.8.8"
  }
 },
 "nbformat": 4,
 "nbformat_minor": 5
}
