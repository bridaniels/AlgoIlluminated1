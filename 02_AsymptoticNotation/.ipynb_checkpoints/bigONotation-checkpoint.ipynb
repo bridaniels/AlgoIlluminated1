{
 "cells": [
  {
   "cell_type": "markdown",
   "id": "7b805669-4434-4a73-acfc-ea1c8e9729fd",
   "metadata": {},
   "source": [
    "# **Chapter 2.2 Big-O Notation**\n",
    "---\n",
    "---\n",
    "### Big-O Notation: English\n",
    "- `T(n) = O(f(n))` if and only if `T(n)` is eventually bounded above by a constant multiple of `f(n)`\n",
    "---\n",
    "- `T(n)` originally not bounded by `f(n)`\n",
    "    - multiplying `f(n)` by a constant (3) results in `f(n)` rising above `T(n)`\n",
    "    - thus `T(n)` is eventually bounded by a constant multiple of `f(n)` \n",
    "        - pg. 46"
   ]
  },
  {
   "cell_type": "markdown",
   "id": "cc36913f-ea52-41fe-aa64-62340fbc3635",
   "metadata": {},
   "source": [
    "---\n",
    "### Big-O Notation: Mathematical\n",
    "- `T(n) = O(f(n))` if and only if there exist positive constants `c` and `n₀` such that:\n",
    "    - `T(n) ≤ c * f(n)`\n",
    "    - for all `n ≥ n₀`\n",
    "---\n",
    "- `c` and `n₀` CANNOT depend on `n`, they are fixed numbers \n",
    "- Big-O there to suppress constant factors and lower-order terms\n",
    "---\n",
    "---"
   ]
  },
  {
   "cell_type": "markdown",
   "id": "c7b0f545-79d2-4ff7-824e-ed52166073bd",
   "metadata": {},
   "source": [
    "\n",
    "## Degree-k Polynomials are `O(nᴷ)`\n",
    "- if `T(n)` is a polynomial with some degree `k`, then `T(n) = O(nᴷ)`\n",
    "- Polynomial: can have constants, variables, and exponenents -> can't divide by a variable (only constants)"
   ]
  },
  {
   "cell_type": "markdown",
   "id": "2bf7c6e6-0552-49a1-8518-87dbd5227614",
   "metadata": {},
   "source": [
    "### T(n) = a<sub>k</sub>n<sup>k</sup> + ... + a<sub>1</sub>n + a<sub>0</sub>\n",
    "- where `k ≥ 0` is a nonnegative integer and the a<sub>i</sub>'s are real numbers ( + or - )\n",
    "- Then `T(n) = O(nᴷ)`"
   ]
  },
  {
   "cell_type": "markdown",
   "id": "280111e7-682f-48ae-8e41-ae460a577504",
   "metadata": {},
   "source": [
    "##### Polynomials in Big-O notation \n",
    "- all you need to worry about is the highest degree that appears in the polynomial \n",
    "- supressing constant factors and lower order terms "
   ]
  },
  {
   "cell_type": "markdown",
   "id": "59fcc4b1-944d-4f71-8ebe-410a82a736b6",
   "metadata": {},
   "source": [
    "#### Find a Pair of Positive Constants `c` and `n₀`\n",
    "- `c`: quantifying the constant multiple of `nᴷ`\n",
    "    - `c` = absolute value of the sum of coefficients (sum of a<sub>k</sub> + ... + a<sub>k<sup>n</sup></sub>)\n",
    "- `n₀`: quantifying sufficiently large `n`\n",
    "    - 'n' = 1 \n",
    "- `T(n) ≤ c * nᴷ` for all `n ≥ n₀ = 1`\n",
    "- need a sequence of the upper bounds on `T(n)` -> culinating in upper bound of `c * nᴷ`\n",
    "- take absolute value of each coefficient a<sub>i</sub> -> coefficients are now nonnegative \n",
    "    - c = |a<sub>k</sub>| + ... + |a<sub>1</sub>| + |a<sub>0</sub>| * n<sup>k</sup> \n",
    "    - |a<sub>i</sub>| is at least as big as a<sub>i</sub>\n",
    "    - because n<sup>i</sup> is positive -> |a<sub>i</sub>|n<sup>i</sup> is at least as big as a<sub>i</sub>n<sup>i</sup>\n",
    "    - means that: T(n) ≤ |a<sub>k</sub>n<sup>k</sup> + ... + |a<sub>1</sub>|n + |a<sub>0</sub>|\n",
    "- turn powers of `n` into a COMMON POWER of `n`\n",
    "    - because n ≥ 1, n<sup>k</sup> is at least as big as n<sup>i</sup> for every i∈{0,1,2,3...k}\n",
    "    - because |a<sub>i</sub>| is nonnegative -> |a<sub>i</sub>|n<sup>i</sup> is at least as big as a<sub>i</sub>n<sup>i</sup>\n",
    "    - means that: T(n) ≤ |a<sub>k</sub>n<sup>k</sup> + ... + |a<sub>1</sub>|n<sup>k</sup> + |a<sub>0</sub>|n<sup>k</sup> = |a<sub>k</sub>| + ... + |a<sub>1</sub>| + |a<sub>0</sub>| * n<sup>k</sup>"
   ]
  },
  {
   "cell_type": "code",
   "execution_count": null,
   "id": "90dea6e0-8d4d-4453-b452-f9ac56529574",
   "metadata": {},
   "outputs": [],
   "source": []
  }
 ],
 "metadata": {
  "kernelspec": {
   "display_name": "Python 3",
   "language": "python",
   "name": "python3"
  },
  "language_info": {
   "codemirror_mode": {
    "name": "ipython",
    "version": 3
   },
   "file_extension": ".py",
   "mimetype": "text/x-python",
   "name": "python",
   "nbconvert_exporter": "python",
   "pygments_lexer": "ipython3",
   "version": "3.8.8"
  }
 },
 "nbformat": 4,
 "nbformat_minor": 5
}
