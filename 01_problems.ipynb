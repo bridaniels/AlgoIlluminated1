{
 "cells": [
  {
   "cell_type": "markdown",
   "id": "631f0f05-a192-47a3-8769-91883affcbb6",
   "metadata": {},
   "source": [
    "# Chapter 1: Test Your Understanding"
   ]
  },
  {
   "cell_type": "markdown",
   "id": "b54a4bf1-921c-4021-8828-8f522eac552f",
   "metadata": {},
   "source": [
    "---\n",
    "## 1. Run MergeSort on input array. \n",
    "- What is the number in the 7th position after second recursive call completes, but before final Merge step?\n",
    "--- "
   ]
  },
  {
   "cell_type": "code",
   "execution_count": 3,
   "id": "437320d6-9a9f-4c11-bcc3-48b1ab444b62",
   "metadata": {},
   "outputs": [],
   "source": [
    "def MergeSort(arr):\n",
    "    \n",
    "    # base case \n",
    "    if len(arr) > 1: \n",
    "        \n",
    "        # split into two smaller arrays\n",
    "        mid = len(arr)//2 # initialization +1\n",
    "        left = arr[:mid] # initialization +1\n",
    "        right = arr[mid:] # initialization +1\n",
    "        \n",
    "        # Recursive Calls -> get down to lowest unit \n",
    "        MergeSort(left) # recursion +1\n",
    "        MergeSort(right) # recursion +1\n",
    "        \n",
    "        \n",
    "        # Merge Subroutine \n",
    "        # two pointers to iterate + third for array \n",
    "        i = j = k = 0 # initialization +3\n",
    "        \n",
    "        # Smallest appends first \n",
    "        while i < len(left) and j < len(right): # loop +1\n",
    "            if left[i] < right[j]: # comparison +1\n",
    "                arr[k] = left[i] # assignment +1\n",
    "                i += 1 # increment +1\n",
    "            else: \n",
    "                arr[k] = right[j] # assignment +1\n",
    "                j += 1 # increment +1\n",
    "            k += 1 # increment +1\n",
    "            \n",
    "        # Grab last variable \n",
    "        while i < len(left): # loop +1\n",
    "            arr[k] = left[i] # assignment +1\n",
    "            i += 1 # increment +1\n",
    "            k += 1 # increment +1\n",
    "        while j < len(right): # loop +1\n",
    "            arr[k] = right[j] # assignment +1\n",
    "            j += 1 # increment +1\n",
    "            k += 1 # increment +1\n",
    "        \n",
    "        return arr"
   ]
  },
  {
   "cell_type": "code",
   "execution_count": 10,
   "id": "e3268d08-08d4-4daa-bd5d-3a6f84cc802a",
   "metadata": {},
   "outputs": [
    {
     "data": {
      "text/plain": [
       "[0, 1, 2, 3, 4, 5, 6, 7, 8, 9]"
      ]
     },
     "execution_count": 10,
     "metadata": {},
     "output_type": "execute_result"
    }
   ],
   "source": [
    "array = [5,3,8,9,1,7,0,2,6,4]\n",
    "MergeSort(array)"
   ]
  },
  {
   "cell_type": "code",
   "execution_count": 23,
   "id": "1b8fd634-7fd0-4a4e-9132-6b8763cd6dba",
   "metadata": {},
   "outputs": [],
   "source": [
    "def TwoRecursive(arr):\n",
    "    \n",
    "    n = len(arr) \n",
    "    \n",
    "    # base case \n",
    "    if len(arr) > 3:\n",
    "        \n",
    "        mid = n//2\n",
    "        left = arr[:mid]\n",
    "        right = arr[mid:]\n",
    "        \n",
    "        TwoRecursive(left)\n",
    "        TwoRecursive(right) \n",
    "        \n",
    "    else: \n",
    "        print(arr)"
   ]
  },
  {
   "cell_type": "code",
   "execution_count": 29,
   "id": "15e4d5dc-caf2-40dc-8438-3c22c6de4ee1",
   "metadata": {},
   "outputs": [
    {
     "name": "stdout",
     "output_type": "stream",
     "text": [
      "[5, 3]\n",
      "[8, 9, 1]\n",
      "[7, 0]\n",
      "[2, 6, 4]\n"
     ]
    }
   ],
   "source": [
    "array = [5,3,8,9,1,7,0,2,6,4]\n",
    "answer = TwoRecursive(array)\n",
    "# same order still -> no merge function has happened -> 7th position, index 6 is '2'"
   ]
  },
  {
   "cell_type": "markdown",
   "id": "c5fbb505-b3e9-4eeb-a36c-11b1232fe39a",
   "metadata": {},
   "source": [
    "---\n",
    "## 2. Modification to MergeSort Algorithm:\n",
    "- divide input array into thirds \n",
    "- recursively sort each third \n",
    "- combine results with three-way merge subroutine \n",
    "---"
   ]
  },
  {
   "cell_type": "code",
   "execution_count": 70,
   "id": "6b8617d5-677b-494f-8a0d-07dc011c82b5",
   "metadata": {},
   "outputs": [],
   "source": [
    "def SplitByThree(arr):\n",
    "    \n",
    "    if len(arr) > 1:\n",
    "        \n",
    "        split = len(arr)//3\n",
    "        left = arr[:split]\n",
    "        mid = arr[split:split+split]\n",
    "        right = arr[split+split:]\n",
    "        \n",
    "        return left, mid, right"
   ]
  },
  {
   "cell_type": "code",
   "execution_count": 82,
   "id": "6340ef00-3346-4b79-8e6c-f12317da6846",
   "metadata": {},
   "outputs": [
    {
     "name": "stdout",
     "output_type": "stream",
     "text": [
      "[5, 3, 8, 9, 1, 7, 0, 2, 6, 4]\n",
      "([5, 3, 8], [9, 1, 7], [0, 2, 6, 4])\n"
     ]
    }
   ],
   "source": [
    "array = [5,3,8,9,1,7,0,2,6,4]\n",
    "answer = SplitByThree(array)\n",
    "print(array)\n",
    "print(answer)"
   ]
  },
  {
   "cell_type": "code",
   "execution_count": 81,
   "id": "f93b2276-bad0-4a69-8e13-28c706f0b5d9",
   "metadata": {},
   "outputs": [],
   "source": [
    "def ThreeWayMerge(left,mid,right):\n",
    "        arr = []\n",
    "        i = x = j = k = 0 \n",
    "        \n",
    "        while i < len(left) and x < len(mid) and j < len(right): # x3 - too many primative operations\n",
    "            if left[i] < mid[x] and right[j]:\n",
    "                arr[k] = left[i] \n",
    "                k += 1\n",
    "                i += 1 \n",
    "                if mid[x] < right[j]:\n",
    "                    arr[k] = mid[x] \n",
    "                    k += 1\n",
    "                    x += 1\n",
    "                    arr[k] = right[j] \n",
    "                    j += 1\n",
    "                    k +=1\n",
    "                else: \n",
    "                    arr[k] = right[j] \n",
    "                    k += 1\n",
    "                    j += 1\n",
    "                    arr[k] = mid[x]\n",
    "                    x += 1\n",
    "                    k += 1\n"
   ]
  },
  {
   "cell_type": "markdown",
   "id": "1db18243-09b8-44df-a34b-0cdacb6a6b4f",
   "metadata": {},
   "source": [
    "---\n",
    "## 2b. Running Time of MergeSort Split 3 ways:\n",
    "- function of the length 'n' of the input array\n",
    "- ignoring constant factors and lower-order terms\n",
    "---"
   ]
  },
  {
   "cell_type": "markdown",
   "id": "00fc8749-5c6d-4ddd-b20f-04dd4ca800d6",
   "metadata": {},
   "source": [
    "- more comparisons between the three variables = more primative operations\n",
    "- splitting up by thirds instead of halves -> inverse power of 2\n",
    "- at each level j:\n",
    "    - 3^j subproblems\n",
    "    - n/3^j subarray lengths \n",
    "- too many comparisons to count in the merge subroutine \n",
    "### O(n*log(base3)n)"
   ]
  },
  {
   "cell_type": "markdown",
   "id": "228f710c-db4f-48e7-a634-6f83f751a715",
   "metadata": {},
   "source": [
    "---\n",
    "## 3. Using Merge Subroutine, merge k arrays. What is the running time of this successive merging algo? \n",
    "- given k sorted arrays with n elements \n",
    "- combine into single array of kn elements \n",
    "- start by merging first two arrays\n",
    "- then merge third array with the merged first two \n",
    "---"
   ]
  },
  {
   "cell_type": "markdown",
   "id": "c84d5b8d-8674-4814-9620-a08c49ba1b24",
   "metadata": {},
   "source": [
    "- first merge: 2 arrays each of length n will have at most n comparisons \n",
    "- 2n array + n third array merge: at most 2n comparisons (lesser values at front, whole n elements wont be compared)\n",
    "    - total = 3n \n",
    "- 3n array + n fourth array merge: at most 3n comparisons\n",
    "    - total = 6n \n",
    "                                                    \n",
    "                                                        \n",
    "                                                          "
   ]
  },
  {
   "cell_type": "code",
   "execution_count": 99,
   "id": "450a8ae4-8dac-44a2-b912-efccce7b1530",
   "metadata": {},
   "outputs": [],
   "source": [
    "x = 9 \n",
    "n = 7"
   ]
  },
  {
   "cell_type": "code",
   "execution_count": 100,
   "id": "99f0c6e3-2dd7-4d65-907f-2854f00fc5fd",
   "metadata": {},
   "outputs": [
    {
     "data": {
      "text/plain": [
       "[1.0, 3.0, 6.0, 10.0, 15.0, 21.0, 28.0, 36.0, 45.0]"
      ]
     },
     "execution_count": 100,
     "metadata": {},
     "output_type": "execute_result"
    }
   ],
   "source": [
    "def SuccessiveMerging(x):\n",
    "    k = 1 \n",
    "    levels = [0]*x\n",
    "    while k <= x:\n",
    "        # FORMULA FROM HINTS - formula for triangular number sequence \n",
    "        b = ((k+1)*k)/2\n",
    "        levels[k-1] = b\n",
    "        k +=1\n",
    "    return levels\n",
    "    \n",
    "SuccessiveMerging(x)"
   ]
  },
  {
   "cell_type": "markdown",
   "id": "3ddf8b28-367f-4a3a-8709-646e1a268fef",
   "metadata": {},
   "source": [
    "#### nk^2\n",
    "- growing by triangular numbers \n",
    "- 1\n",
    "- 1 1 = 3\n",
    "- 1\n",
    "- 1 1 \n",
    "- 1 1 1 = 6"
   ]
  },
  {
   "cell_type": "markdown",
   "id": "4fbbf897-2cb6-4da5-a7c4-1fdb65671cf3",
   "metadata": {},
   "source": [
    "---\n",
    "## 4. Running time for merging K sorted arrays into single sorted KN array \n",
    "- merge k sorted length n arrays into a single sorted length kn array\n",
    "- divide k arrays into k/2 pairs of arrays \n",
    "- merge subroutine to combine each pair\n",
    "- k/2 sorted length 2n arrays \n",
    "---"
   ]
  },
  {
   "cell_type": "markdown",
   "id": "158b4e03-7f1c-46c7-8bcb-bd02050ae449",
   "metadata": {},
   "source": [
    "- divide and conquer = log factor \n",
    "- log(base2)k = number of times you divide k by 2 to reach one or less \n",
    "- nk = Merge Subroutine \n",
    "### nk*(log(base2)k)"
   ]
  },
  {
   "cell_type": "markdown",
   "id": "729f2f6a-d9bf-4b5a-b2f9-21e7bb2f541c",
   "metadata": {},
   "source": [
    "---\n",
    "## 5. Solved using a single invocation of a sorting subroutine followed by a single pass over the sorted array \n",
    "---"
   ]
  },
  {
   "cell_type": "code",
   "execution_count": 195,
   "id": "982a1a72-0b75-4ef3-bbb1-08f65efe51e3",
   "metadata": {},
   "outputs": [
    {
     "name": "stdout",
     "output_type": "stream",
     "text": [
      "[2, 2, 2, 4, 5, 7, 12, 12, 24, 34, 34, 34, 75, 76, 85, 124, 654]\n",
      "17\n"
     ]
    }
   ],
   "source": [
    "array = [12,4,2,34,7,12,76,24,2,654,124,85,34,75,34,2,5]\n",
    "sorted = MergeSort(array)\n",
    "print(sorted)\n",
    "print(len(sorted))"
   ]
  },
  {
   "cell_type": "markdown",
   "id": "0db6a938-0abf-4942-bada-4181404a7074",
   "metadata": {},
   "source": [
    "#### a.) Compute the minimum gap between any pair of array elements "
   ]
  },
  {
   "cell_type": "code",
   "execution_count": 196,
   "id": "541c8346-99b8-46c3-a536-5456bafdc4f6",
   "metadata": {},
   "outputs": [],
   "source": [
    "def minGap(array):\n",
    "    l,r = 0,1\n",
    "    min_gap = max(array)\n",
    "    \n",
    "    while r < len(array):\n",
    "        gap = abs(array[r] - array[l])\n",
    "        if gap < min_gap:\n",
    "            min_gap = gap\n",
    "            r += 1\n",
    "            l += 1\n",
    "        else:\n",
    "            r += 1\n",
    "            l += 1\n",
    "            \n",
    "    return abs(min_gap)"
   ]
  },
  {
   "cell_type": "code",
   "execution_count": 197,
   "id": "58218557-9467-408d-947d-80c415df4d94",
   "metadata": {},
   "outputs": [
    {
     "name": "stdout",
     "output_type": "stream",
     "text": [
      "sorted gap: 0\n"
     ]
    }
   ],
   "source": [
    "print(f\"sorted gap: {minGap(sorted)}\")"
   ]
  },
  {
   "cell_type": "markdown",
   "id": "586df92c-5e9d-430f-9c22-a0c4e8990c78",
   "metadata": {},
   "source": [
    "#### b.) Compute the number of distinct integers contained in the array"
   ]
  },
  {
   "cell_type": "code",
   "execution_count": 198,
   "id": "52c30626-55f2-4e95-8701-19cc0d15ac95",
   "metadata": {},
   "outputs": [],
   "source": [
    "def distinctInt(array):\n",
    "    distinct = set(array)\n",
    "    return len(distinct)"
   ]
  },
  {
   "cell_type": "code",
   "execution_count": 199,
   "id": "0c4e413c-c7a0-4465-ab23-e018644939ed",
   "metadata": {},
   "outputs": [
    {
     "data": {
      "text/plain": [
       "12"
      ]
     },
     "execution_count": 199,
     "metadata": {},
     "output_type": "execute_result"
    }
   ],
   "source": [
    "distinctInt(sorted)"
   ]
  },
  {
   "cell_type": "markdown",
   "id": "31e4bcb9-9267-4564-9c14-a30f6d6e83c1",
   "metadata": {},
   "source": [
    "#### c.) Compute a \"de-duplicated\" version of the input array. Output contains only one copy of each distinct integer."
   ]
  },
  {
   "cell_type": "code",
   "execution_count": 200,
   "id": "baf38366-6931-468e-ad66-1f1ddb2cfe75",
   "metadata": {},
   "outputs": [],
   "source": [
    "def removeDuplicates(array):\n",
    "    distinct = []\n",
    "    \n",
    "    if len(array) <= 1:\n",
    "        return array\n",
    "    else:\n",
    "        for i in array:\n",
    "            if i in distinct: \n",
    "                continue\n",
    "            else: \n",
    "                distinct.append(i)\n",
    "    return distinct    "
   ]
  },
  {
   "cell_type": "code",
   "execution_count": 201,
   "id": "c665eaca-aa70-4f69-a867-b404bec3a0f9",
   "metadata": {},
   "outputs": [
    {
     "data": {
      "text/plain": [
       "[2, 4, 5, 7, 12, 24, 34, 75, 76, 85, 124, 654]"
      ]
     },
     "execution_count": 201,
     "metadata": {},
     "output_type": "execute_result"
    }
   ],
   "source": [
    "removeDuplicates(sorted)"
   ]
  },
  {
   "cell_type": "code",
   "execution_count": 202,
   "id": "a1dbfed9-0c21-404b-a95b-d4d70a2ae714",
   "metadata": {},
   "outputs": [
    {
     "name": "stdout",
     "output_type": "stream",
     "text": [
      "{2, 34, 4, 5, 7, 75, 12, 76, 654, 85, 24, 124}\n"
     ]
    }
   ],
   "source": [
    "distinct = set(sorted)\n",
    "print(distinct)"
   ]
  },
  {
   "cell_type": "markdown",
   "id": "ffc637ac-52e1-455a-ae8c-a07f724095b5",
   "metadata": {},
   "source": [
    "#### d.) Compute the mode (most frequent) of the array. If there is a tie, return all the modes."
   ]
  },
  {
   "cell_type": "code",
   "execution_count": 209,
   "id": "edd9bbb1-badb-44bb-bca7-6708036e7359",
   "metadata": {},
   "outputs": [],
   "source": [
    "def arrayMode(array):\n",
    "    \n",
    "    mp = {}\n",
    "    \n",
    "    for i in array:\n",
    "        if i not in mp:\n",
    "            mp[i] = 1\n",
    "        else:\n",
    "            mp[i] += 1\n",
    "            \n",
    "    mode = []\n",
    "    big = 0 \n",
    "    \n",
    "    \n",
    "    \n",
    "    return mode"
   ]
  },
  {
   "cell_type": "code",
   "execution_count": 210,
   "id": "d09a534b-35a7-46ab-bded-107daf66cc29",
   "metadata": {},
   "outputs": [
    {
     "data": {
      "text/plain": [
       "[]"
      ]
     },
     "execution_count": 210,
     "metadata": {},
     "output_type": "execute_result"
    }
   ],
   "source": [
    "arrayMode(sorted)"
   ]
  },
  {
   "cell_type": "markdown",
   "id": "2a463647-bb7e-41cf-ac6f-1b777ac82c59",
   "metadata": {},
   "source": [
    "#### e.) Assume array's integers are distinct and that the array has an odd length. Compute the median (middle) of the array with the number of other elements less than it equal to the number of other elements greater than it."
   ]
  },
  {
   "cell_type": "code",
   "execution_count": null,
   "id": "1878ff9a-3c97-4521-94da-3c817d0827d2",
   "metadata": {},
   "outputs": [],
   "source": []
  },
  {
   "cell_type": "code",
   "execution_count": null,
   "id": "f2efe34c-932c-4919-a34e-38ceb5fa10aa",
   "metadata": {},
   "outputs": [],
   "source": []
  }
 ],
 "metadata": {
  "kernelspec": {
   "display_name": "Python 3",
   "language": "python",
   "name": "python3"
  },
  "language_info": {
   "codemirror_mode": {
    "name": "ipython",
    "version": 3
   },
   "file_extension": ".py",
   "mimetype": "text/x-python",
   "name": "python",
   "nbconvert_exporter": "python",
   "pygments_lexer": "ipython3",
   "version": "3.8.8"
  }
 },
 "nbformat": 4,
 "nbformat_minor": 5
}
