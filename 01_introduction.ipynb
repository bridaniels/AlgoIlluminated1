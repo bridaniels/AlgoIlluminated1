{
 "cells": [
  {
   "cell_type": "markdown",
   "id": "448c74f9-a792-42d6-a8aa-f9c6f310b597",
   "metadata": {},
   "source": [
    "# Chapter 1: Introduction"
   ]
  },
  {
   "cell_type": "markdown",
   "id": "63745c34-d5c0-4999-90e9-53161468f4a6",
   "metadata": {},
   "source": [
    "---\n",
    "## Integer Multiplication\n",
    "---\n",
    "- problem being solved VS method of solution\n",
    "    - problem being solved: x*y=P\n",
    "    - method of solution: traditional grade school integer multiplication"
   ]
  },
  {
   "cell_type": "code",
   "execution_count": null,
   "id": "5cfd80e9-b101-442f-998c-85bde006e364",
   "metadata": {},
   "outputs": [],
   "source": [
    "# Input: Two n-digit nonnegative integers, x and y \n",
    "x = 5678\n",
    "y = 1234\n",
    "\n",
    "n = 4"
   ]
  },
  {
   "cell_type": "markdown",
   "id": "9d447c46-286c-4f9a-bba3-c2fbc1a07e48",
   "metadata": {},
   "source": [
    "#### Primative Operations\n",
    "1. adding two single-digit numbers\n",
    "2. multiplying two single-digit numbers\n",
    "3. adding a zero to the beginning or end of a number"
   ]
  },
  {
   "cell_type": "markdown",
   "id": "71956ec8-ce05-4119-a301-6bd1cfb5a095",
   "metadata": {},
   "source": [
    "#### Partial Product 1: Primative Operations \n",
    "- n Multiplications: multiplied each digit in x by the last digit in y\n",
    "- 2n Carry: at most two additions per digit \n",
    "- Primative Operations per Partial Product 3n = n + 2n "
   ]
  },
  {
   "cell_type": "code",
   "execution_count": null,
   "id": "2d7bb39b-b179-443b-a20d-2fdca0c97207",
   "metadata": {},
   "outputs": [],
   "source": [
    "# Partial Product 1\n",
    "a = x * 4\n",
    "# Partial Product 2\n",
    "b = x * 3\n",
    "# 2b\n",
    "b = b * 10\n",
    "# Partial Product 3\n",
    "c = x * 2\n",
    "# 3b\n",
    "c = c * 100 \n",
    "# Partial Product 4\n",
    "d = x * 1 \n",
    "# 4b\n",
    "d = d * 1000\n",
    "\n",
    "p = a+b+c+d\n",
    "\n",
    "print(f\"a = {a}\")\n",
    "print(f\"b = {b}\")\n",
    "print(f\"c = {c}\")\n",
    "print(f\"d = {d}\")\n",
    "print(f\"Product = {p}\")"
   ]
  },
  {
   "cell_type": "markdown",
   "id": "8c994eec-969f-4c2f-91bc-b2179e842996",
   "metadata": {},
   "source": [
    "#### N Partial Products\n",
    "- n * 3n primative operations \n",
    "- 3n^2 \n",
    "- Add them up to compute the final answer -> double the assumption for the upper bound\n",
    "\n",
    "### Total Number of Primative Operations for Integer Multiplication <=  6n^2"
   ]
  },
  {
   "cell_type": "markdown",
   "id": "da1bd338-7a4f-4241-9123-9bf2f9744ae2",
   "metadata": {},
   "source": [
    "---\n",
    "## Recursive Integer Multiplication\n",
    "---\n",
    "- problem being solved: x*y = P \n",
    "- method of solution: Recursive Integer Multiplication\n",
    "- 4 recursive calls between 2/n-digit numbers "
   ]
  },
  {
   "cell_type": "code",
   "execution_count": null,
   "id": "4d13c2d8-69de-4fdb-ab61-bbedf9d0748d",
   "metadata": {},
   "outputs": [],
   "source": [
    "x = 5678\n",
    "y = 1234\n",
    "# assumption: n is a power of 2 "
   ]
  },
  {
   "cell_type": "code",
   "execution_count": null,
   "id": "992369d7-51a9-46b1-8b1a-e976311f9069",
   "metadata": {},
   "outputs": [],
   "source": [
    "def RecInMult(x,y):\n",
    "    # identify variables/assumptions\n",
    "    x = str(x)\n",
    "    y = str(y)\n",
    "    n = len(x)\n",
    "    j = n//2\n",
    "    \n",
    "    # base case \n",
    "    if n == 1: \n",
    "        return int(x)*int(y)\n",
    "    \n",
    "    # identify halves\n",
    "    a = int(x[:j])\n",
    "    b = int(x[j:])\n",
    "    c = int(y[:j])\n",
    "    d = int(y[j:])\n",
    "    \n",
    "    # recvursively compute\n",
    "    ac = RecInMult(a,c)\n",
    "    ad = RecInMult(a,d)\n",
    "    bc = RecInMult(b,c)\n",
    "    bd = RecInMult(b,d)\n",
    "        \n",
    "    answer = (10**n * ac) + (10**(n/2) * (ad + bc)) + bd\n",
    "    \n",
    "    return answer\n",
    "\n",
    "RecInMult(x,y)"
   ]
  },
  {
   "cell_type": "markdown",
   "id": "8c72673c-c177-461a-866e-9df1d78ce54f",
   "metadata": {},
   "source": [
    "---\n",
    "## Karatsuba Multiplication\n",
    "---\n",
    "- optimized version of Recursion Integer Multiplication\n",
    "- Don't care about 'ad' or 'bc' -> care about (a*d)+(b*c)\n",
    "- Leaves us with THREE Recursive Calls"
   ]
  },
  {
   "cell_type": "code",
   "execution_count": null,
   "id": "ada44e9f-d113-4bd9-bb89-0fe309805a61",
   "metadata": {},
   "outputs": [],
   "source": [
    "from math import ceil, floor\n",
    "\n",
    "# ceil: accepts a number as a decimal and returns integer one higher than decimal\n",
    "# floor: accepts a number as a decimal and returns integer one lower than decimal "
   ]
  },
  {
   "cell_type": "code",
   "execution_count": null,
   "id": "b452aec8-b546-4d85-a760-fc0ef0792214",
   "metadata": {},
   "outputs": [],
   "source": [
    "x = 5678\n",
    "y = 1234\n",
    "# Assumption: n is a power of 2 "
   ]
  },
  {
   "cell_type": "code",
   "execution_count": null,
   "id": "63eb0bc5-c198-4649-b9e9-605737a9c0b8",
   "metadata": {},
   "outputs": [],
   "source": [
    "def KaratMult(x,y):\n",
    "    \n",
    "    # base case \n",
    "    if x < 10 and y < 10:\n",
    "        return x*y\n",
    "    \n",
    "    size = len(str(x))\n",
    "    n = ceil(size//2)\n",
    "    p = 10 ** n \n",
    "    \n",
    "    \n",
    "    # identify halves\n",
    "    a = floor(x//p)\n",
    "    b = x % p\n",
    "    c = floor(y//p)\n",
    "    d = y % p\n",
    "    \n",
    "    # recvursively compute\n",
    "    ac = KaratMult(a,c)\n",
    "    bd = KaratMult(b,d)\n",
    "    three = KaratMult(a+b,c+d) - ac - bd\n",
    "            \n",
    "    answer = (10**(2*n) * ac) + (10**(n) * three) + bd\n",
    "    \n",
    "    return answer\n",
    "\n",
    "KaratMult(x,y)"
   ]
  },
  {
   "cell_type": "markdown",
   "id": "7e9bd6b6-e642-4c24-bc5c-476af6d55cb7",
   "metadata": {},
   "source": [
    "--- \n",
    "## MergeSort\n",
    "---\n",
    "- Canonical Divide-and-Conquer Algorithm\n",
    "    - break your problem into smaller subproblems\n",
    "    - solve subproblems recursively\n",
    "    - combine solutions to subproblems into one for the orignal problem "
   ]
  },
  {
   "cell_type": "code",
   "execution_count": 1,
   "id": "48a944a9-4214-4d66-b994-cd44b35db8d1",
   "metadata": {},
   "outputs": [],
   "source": [
    "# input: array of n numbers n arbitrary order \n",
    "    # assumptions: no duplicates\n",
    "array = [5,4,1,8,7,2,6,3]\n",
    "\n",
    "# output: array of same numbers from smallest to largest"
   ]
  },
  {
   "cell_type": "code",
   "execution_count": 2,
   "id": "054e78c5-87d9-4a52-aaab-69a5b24dd8d0",
   "metadata": {},
   "outputs": [
    {
     "data": {
      "text/plain": [
       "[1, 2, 3, 4, 5, 6, 7, 8]"
      ]
     },
     "execution_count": 2,
     "metadata": {},
     "output_type": "execute_result"
    }
   ],
   "source": [
    "def MergeSort(arr):\n",
    "    \n",
    "    # ignoring base case -> don't want to return single unit substring \n",
    "    if len(arr) > 1:\n",
    "    \n",
    "        # split into two smaller arrays\n",
    "        mid = len(arr)//2\n",
    "        left = arr[:mid]\n",
    "        right = arr[mid:]\n",
    "    \n",
    "        # Recursively divide array into smallest units \n",
    "        MergeSort(left)\n",
    "        MergeSort(right)\n",
    "    \n",
    "        # MERGE\n",
    "        # two pointers to iterate through arrays\n",
    "        i = j = 0 \n",
    "        # pointer for merged array\n",
    "        k = 0 \n",
    "    \n",
    "        # Start Merging Smallest Units into Output Array\n",
    "        while i < len(left) and j < len(right):\n",
    "            if left[i] < right[j]:\n",
    "                arr[k] = left[i]\n",
    "                i += 1\n",
    "            else: \n",
    "                arr[k] = right[j]\n",
    "                j += 1\n",
    "            k += 1\n",
    "        # Whatever Unit Was Smaller Gets Appended Next \n",
    "        while i < len(left):\n",
    "            arr[k] = left[i]\n",
    "            i += 1\n",
    "            k += 1\n",
    "        while j < len(right):\n",
    "            arr[k] = right[j]\n",
    "            j += 1\n",
    "            k += 1\n",
    "        \n",
    "        return arr\n",
    "    \n",
    "    \n",
    "MergeSort(array)"
   ]
  },
  {
   "cell_type": "markdown",
   "id": "53b7519f-8df4-4f80-81ea-68291edf7fd0",
   "metadata": {},
   "source": [
    "### MergeSort Recursive Tree \n",
    "##### Level 0: input = [5,4,1,8,7,2,6,3]\n",
    "- mid = 4\n",
    "- left = [5, 4, 1, 8] \n",
    "- right = [7, 2, 6, 3]\n",
    "\n",
    "##### Level 1: input = left, right \n",
    "- Left = [5, 4, 1, 8]\n",
    "    - mid = 2\n",
    "    - left = [5, 4]\n",
    "    - right = [1, 8]\n",
    "- Right = [7, 2, 6, 3]\n",
    "    - mid = 2\n",
    "    - left = [7, 2]\n",
    "    - right = [6, 3]\n",
    "    \n",
    "##### Level 2: input = Left(left, right), Right(left,right)\n",
    "- LeftL = [5, 4]    \n",
    "    - mid = 1\n",
    "    - left = [5]\n",
    "    - right = [4]\n",
    "- LeftR = [1, 8]\n",
    "    - mid = 1\n",
    "    - left = [1]\n",
    "    - right = [8]\n",
    "- RightL = [7, 2] \n",
    "    - mid = 1\n",
    "    - left = [7]\n",
    "    - right = [2]\n",
    "- RightR = [6, 3]\n",
    "    - mid = 1\n",
    "    - left = [6]\n",
    "    - right = [3]\n"
   ]
  },
  {
   "cell_type": "markdown",
   "id": "43a5c5de-a227-4f59-9fb4-14360864a069",
   "metadata": {},
   "source": [
    "---\n",
    "## Runtime of MergeSort\n",
    "---\n",
    "#### Levels of Recursion Tree: log(sub2)n\n",
    "- log(sub2)n = number of times you divide 'n' by 2 to reach 1 or less\n",
    "        \n",
    "#### Merge SubRoutine = 4n + 2 \n",
    "- 4n + 2 -> 4n + 2n = 6n is valid upper bound for ease \n",
    "- 2 Recursive Calls + For Loop on Results \n",
    "- Lemma: technical statement that assists with the proof of a theorem \n",
    "    - at most 6n operations where n is the length of in the input array\n",
    "    - for every pair of sorted input arrays left, right of length n/2, the 'Merge' subroutine performs at most 6n operations \n",
    "\n",
    "- Primative Operations\n",
    "    - initialization in first two lines = 2 \n",
    "    - for loop executing n times = n\n",
    "        - loop iterations:\n",
    "            - comparison = n \n",
    "            - assignment = n\n",
    "            - increments = 2n\n",
    "\n",
    "#### 6n(log(sub2)n) + 6n \n",
    "- Lemma: for every level of the recrusion tree log(sub2)n one can expect 6n operations to establish various nodes, +6n denotes the starting node \n",
    "- Theorem: Most important technical statements \n",
    "    - For every input array of length n >= 1, the MergeSort algorithm performs at most 6nlog(sub2)n + 6n operations, where log(sub2) denotes the base-2 logarithm \n",
    "    "
   ]
  },
  {
   "cell_type": "code",
   "execution_count": null,
   "id": "8546287e-3ccd-4843-8e92-e7ee2f1642b8",
   "metadata": {},
   "outputs": [],
   "source": []
  }
 ],
 "metadata": {
  "kernelspec": {
   "display_name": "Python 3",
   "language": "python",
   "name": "python3"
  },
  "language_info": {
   "codemirror_mode": {
    "name": "ipython",
    "version": 3
   },
   "file_extension": ".py",
   "mimetype": "text/x-python",
   "name": "python",
   "nbconvert_exporter": "python",
   "pygments_lexer": "ipython3",
   "version": "3.8.8"
  }
 },
 "nbformat": 4,
 "nbformat_minor": 5
}
