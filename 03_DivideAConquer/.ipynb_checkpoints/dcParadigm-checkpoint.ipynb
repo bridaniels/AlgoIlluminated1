{
 "cells": [
  {
   "cell_type": "markdown",
   "id": "c7cb626a-1ff0-40a8-a03b-5936dd9c67f0",
   "metadata": {},
   "source": [
    "# Chapter 3.1: Divide and Conquer Paradigm\n",
    "---"
   ]
  },
  {
   "cell_type": "markdown",
   "id": "1aa116ba-be73-481e-baa9-54fe814f41f9",
   "metadata": {},
   "source": [
    "- Most well suited towards computational problems where there is an obvious way to split the input into smaller subproblems that do not interfere with each other \n",
    "- **Three Conceptual Steps:**\n",
    "    1. *Divide* input into smaller subproblems\n",
    "    2. *Conquer* the subproblems recursively\n",
    "    3. *Combine* solutions from subproblems into a a solution for the original problem "
   ]
  },
  {
   "cell_type": "markdown",
   "id": "235c1bba-93e8-4788-9047-0b60fa586010",
   "metadata": {},
   "source": [
    "## MergeSort\n",
    "1. *Divide* the input array into left and right havles "
   ]
  },
  {
   "cell_type": "code",
   "execution_count": 1,
   "id": "a5ecedaf-ea6a-49f4-9b90-47cb1d092cec",
   "metadata": {},
   "outputs": [],
   "source": [
    "def Divide(arr):\n",
    "    if len(arr) > 1:\n",
    "        mid = len(arr)//2\n",
    "        left = arr[:mid]\n",
    "        right = arr[mid:]"
   ]
  },
  {
   "cell_type": "markdown",
   "id": "484e4f3f-f459-41db-bbe2-2d8a17be1021",
   "metadata": {},
   "source": [
    "2. *Conquer* uses two recursive calls to sort the left and right subarrays"
   ]
  },
  {
   "cell_type": "code",
   "execution_count": 3,
   "id": "ff23aa2e-bcda-47ab-9a46-6d11bde21662",
   "metadata": {},
   "outputs": [],
   "source": [
    "def Conquer(left,right):\n",
    "    Divide(left)\n",
    "    Divide(right)"
   ]
  },
  {
   "cell_type": "markdown",
   "id": "7ab483b1-2aa9-4281-989c-b2d755b17159",
   "metadata": {},
   "source": [
    "3. *Combine* Merge Subroutine"
   ]
  },
  {
   "cell_type": "code",
   "execution_count": 4,
   "id": "dcd0fd29-a868-443f-af87-39e3d39bebde",
   "metadata": {},
   "outputs": [],
   "source": [
    "def Merge(left,right):\n",
    "    i = j = 0\n",
    "    k = 0 \n",
    "    \n",
    "    while i < len(left) and j < len(right):\n",
    "        if left[i] < right[j]:\n",
    "            arr[k] = left[i]\n",
    "            i += 1\n",
    "        else:\n",
    "            arr[k] = right[j]\n",
    "            j += 1\n",
    "        k += 1\n",
    "        \n",
    "    while i < len(left):\n",
    "        arr[k] = left[i]\n",
    "        i += 1\n",
    "        k += 1\n",
    "    while j < len(right):\n",
    "        arr[k] = right[j]\n",
    "        j += 1\n",
    "        k += 1\n",
    "    return arr"
   ]
  },
  {
   "cell_type": "code",
   "execution_count": null,
   "id": "ba4a9549-5e56-4c71-9e3e-6dd068461e66",
   "metadata": {},
   "outputs": [],
   "source": []
  }
 ],
 "metadata": {
  "kernelspec": {
   "display_name": "Python 3",
   "language": "python",
   "name": "python3"
  },
  "language_info": {
   "codemirror_mode": {
    "name": "ipython",
    "version": 3
   },
   "file_extension": ".py",
   "mimetype": "text/x-python",
   "name": "python",
   "nbconvert_exporter": "python",
   "pygments_lexer": "ipython3",
   "version": "3.8.8"
  }
 },
 "nbformat": 4,
 "nbformat_minor": 5
}
