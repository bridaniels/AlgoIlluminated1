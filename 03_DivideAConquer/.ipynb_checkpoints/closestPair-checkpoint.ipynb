{
 "cells": [
  {
   "cell_type": "markdown",
   "id": "d648eb3b-1703-492e-b1ca-50c66784bbb8",
   "metadata": {},
   "source": [
    "# Chapter 3.4: An `O(n log n)`-Time Algorithm for the Closest Pair \n",
    "---"
   ]
  },
  {
   "cell_type": "code",
   "execution_count": null,
   "id": "96389c30-8a8e-4527-9b1e-9f867f3b323a",
   "metadata": {},
   "outputs": [],
   "source": []
  }
 ],
 "metadata": {
  "kernelspec": {
   "display_name": "Python 3",
   "language": "python",
   "name": "python3"
  },
  "language_info": {
   "codemirror_mode": {
    "name": "ipython",
    "version": 3
   },
   "file_extension": ".py",
   "mimetype": "text/x-python",
   "name": "python",
   "nbconvert_exporter": "python",
   "pygments_lexer": "ipython3",
   "version": "3.8.8"
  }
 },
 "nbformat": 4,
 "nbformat_minor": 5
}
