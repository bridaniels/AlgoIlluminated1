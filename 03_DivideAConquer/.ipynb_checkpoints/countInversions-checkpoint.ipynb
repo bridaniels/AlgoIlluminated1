{
 "cells": [
  {
   "cell_type": "markdown",
   "id": "07e6f485-19f0-44db-85a4-95917efb6e72",
   "metadata": {},
   "source": [
    "# Chapter 3.2: Counting Inversions in `O(n log n)` Time\n",
    "---"
   ]
  },
  {
   "cell_type": "markdown",
   "id": "204b63f1-ae78-4c4d-9229-0062a72b5136",
   "metadata": {},
   "source": [
    "- \"Collaborative Filtering\": making good recomendations to someone based on your knowledge of their and others' performance \n"
   ]
  },
  {
   "cell_type": "code",
   "execution_count": null,
   "id": "24ad831f-6616-4d40-91a1-bc4c5b767e8e",
   "metadata": {},
   "outputs": [],
   "source": []
  }
 ],
 "metadata": {
  "kernelspec": {
   "display_name": "Python 3",
   "language": "python",
   "name": "python3"
  },
  "language_info": {
   "codemirror_mode": {
    "name": "ipython",
    "version": 3
   },
   "file_extension": ".py",
   "mimetype": "text/x-python",
   "name": "python",
   "nbconvert_exporter": "python",
   "pygments_lexer": "ipython3",
   "version": "3.8.8"
  }
 },
 "nbformat": 4,
 "nbformat_minor": 5
}
