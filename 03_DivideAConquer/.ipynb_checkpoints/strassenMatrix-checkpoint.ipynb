{
 "cells": [
  {
   "cell_type": "markdown",
   "id": "18eba1bc-749d-4bb9-8a7e-c539cdf9bd91",
   "metadata": {},
   "source": [
    "# Chapter 3.3: Strassen's Matrix Multiplication Algorithm\n",
    "---"
   ]
  },
  {
   "cell_type": "code",
   "execution_count": null,
   "id": "d7f613b1-878b-4899-ab4f-a2541d9b1029",
   "metadata": {},
   "outputs": [],
   "source": []
  }
 ],
 "metadata": {
  "kernelspec": {
   "display_name": "Python 3",
   "language": "python",
   "name": "python3"
  },
  "language_info": {
   "codemirror_mode": {
    "name": "ipython",
    "version": 3
   },
   "file_extension": ".py",
   "mimetype": "text/x-python",
   "name": "python",
   "nbconvert_exporter": "python",
   "pygments_lexer": "ipython3",
   "version": "3.8.8"
  }
 },
 "nbformat": 4,
 "nbformat_minor": 5
}
