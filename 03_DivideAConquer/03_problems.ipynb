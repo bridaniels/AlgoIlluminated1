{
 "cells": [
  {
   "cell_type": "markdown",
   "id": "15dd1d6c-c2a3-4706-a4f9-174cd9c7426e",
   "metadata": {},
   "source": [
    "# Chapter 3: Problems\n",
    "---"
   ]
  },
  {
   "cell_type": "code",
   "execution_count": null,
   "id": "e906012b-a002-4e97-bc46-67f1167ac75e",
   "metadata": {},
   "outputs": [],
   "source": []
  }
 ],
 "metadata": {
  "kernelspec": {
   "display_name": "Python 3",
   "language": "python",
   "name": "python3"
  },
  "language_info": {
   "codemirror_mode": {
    "name": "ipython",
    "version": 3
   },
   "file_extension": ".py",
   "mimetype": "text/x-python",
   "name": "python",
   "nbconvert_exporter": "python",
   "pygments_lexer": "ipython3",
   "version": "3.8.8"
  }
 },
 "nbformat": 4,
 "nbformat_minor": 5
}
